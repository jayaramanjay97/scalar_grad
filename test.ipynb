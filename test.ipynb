{
 "cells": [
  {
   "cell_type": "code",
   "execution_count": 1,
   "metadata": {},
   "outputs": [],
   "source": [
    "import random\n",
    "import numpy as np\n",
    "import matplotlib.pyplot as plt\n",
    "%matplotlib inline"
   ]
  },
  {
   "cell_type": "code",
   "execution_count": 2,
   "metadata": {},
   "outputs": [],
   "source": [
    "from scalar_grad.backbone import Value\n",
    "from scalar_grad.MLP import Neuron, Layer, MLP\n"
   ]
  },
  {
   "cell_type": "code",
   "execution_count": 3,
   "metadata": {},
   "outputs": [],
   "source": [
    "np.random.seed(77)\n",
    "random.seed(77)"
   ]
  },
  {
   "cell_type": "code",
   "execution_count": 4,
   "metadata": {},
   "outputs": [
    {
     "data": {
      "text/plain": [
       "<matplotlib.collections.PathCollection at 0x1dba37a8dc0>"
      ]
     },
     "execution_count": 4,
     "metadata": {},
     "output_type": "execute_result"
    },
    {
     "data": {
      "image/png": "[encoded data removed]",
      "text/plain": [
       "<Figure size 360x360 with 1 Axes>"
      ]
     },
     "metadata": {
      "needs_background": "light"
     },
     "output_type": "display_data"
    }
   ],
   "source": [
    "from sklearn.datasets import make_moons, make_blobs\n",
    "X, y = make_moons(n_samples=100, noise=0.1)\n",
    "\n",
    "y = y*2 - 1 # make y be -1 or 1\n",
    "# visualize in 2D\n",
    "plt.figure(figsize=(5,5))\n",
    "plt.scatter(X[:,0], X[:,1], c=y, s=20, cmap='jet')"
   ]
  },
  {
   "cell_type": "code",
   "execution_count": 8,
   "metadata": {},
   "outputs": [
    {
     "name": "stdout",
     "output_type": "stream",
     "text": [
      "<scalar_grad.MLP.MLP object at 0x000001DBA3F8A5E0>\n",
      "number of parameters 697\n"
     ]
    }
   ],
   "source": [
    "# initialize a model \n",
    "model = MLP(2, [24, 24, 1]) # 2-layer neural network\n",
    "print(model)\n",
    "print(\"number of parameters\", len(model.parameters()))"
   ]
  },
  {
   "cell_type": "code",
   "execution_count": 9,
   "metadata": {},
   "outputs": [
    {
     "name": "stdout",
     "output_type": "stream",
     "text": [
      "Value(data=0.5229559523800077) 0.5\n"
     ]
    }
   ],
   "source": [
    "def loss(batch_size=None):\n",
    "    \n",
    "    # inline DataLoader :)\n",
    "    if batch_size is None:\n",
    "        Xb, yb = X, y\n",
    "    else:\n",
    "        ri = np.random.permutation(X.shape[0])[:batch_size]\n",
    "        Xb, yb = X[ri], y[ri]\n",
    "    inputs = [list(map(Value, xrow)) for xrow in Xb]\n",
    "    \n",
    "    # forward the model to get scores\n",
    "    scores = list(map(model, inputs))\n",
    "    \n",
    "    # svm \"max-margin\" loss\n",
    "    losses = [(1 + -yi*scorei).tanh() for yi, scorei in zip(yb, scores)]\n",
    "    data_loss = sum(losses) * (1.0 / len(losses))\n",
    "    # L2 regularization\n",
    "    alpha = 1e-4\n",
    "    reg_loss = alpha * sum((p*p for p in model.parameters()))\n",
    "    total_loss = data_loss + reg_loss\n",
    "    \n",
    "    # also get accuracy\n",
    "    accuracy = [(yi > 0) == (scorei.data > 0) for yi, scorei in zip(yb, scores)]\n",
    "    return total_loss, sum(accuracy) / len(accuracy)\n",
    "\n",
    "total_loss, acc = loss()\n",
    "print(total_loss, acc)"
   ]
  },
  {
   "cell_type": "code",
   "execution_count": 10,
   "metadata": {},
   "outputs": [
    {
     "name": "stdout",
     "output_type": "stream",
     "text": [
      "step 0 loss 0.5229559523800077, accuracy 50.0%\n",
      "step 1 loss 0.503895103084628, accuracy 50.0%\n",
      "step 2 loss 0.4983628341884161, accuracy 50.0%\n",
      "step 3 loss 0.3939277490639665, accuracy 76.0%\n",
      "step 4 loss 0.2816415287417797, accuracy 74.0%\n",
      "step 5 loss 0.26742109333538044, accuracy 77.0%\n",
      "step 6 loss 0.2592856495509295, accuracy 78.0%\n",
      "step 7 loss 0.25416272543380714, accuracy 78.0%\n",
      "step 8 loss 0.25072089090597593, accuracy 78.0%\n",
      "step 9 loss 0.24822792224374854, accuracy 78.0%\n",
      "step 10 loss 0.24619141055806196, accuracy 78.0%\n",
      "step 11 loss 0.24449357492294266, accuracy 78.0%\n",
      "step 12 loss 0.24315426149771427, accuracy 78.0%\n",
      "step 13 loss 0.24216726549556114, accuracy 78.0%\n",
      "step 14 loss 0.24144033907910134, accuracy 78.0%\n",
      "step 15 loss 0.24086885068674596, accuracy 78.0%\n",
      "step 16 loss 0.24039300798731938, accuracy 78.0%\n",
      "step 17 loss 0.23998558924902277, accuracy 78.0%\n",
      "step 18 loss 0.23963150905950145, accuracy 78.0%\n",
      "step 19 loss 0.23932021240668008, accuracy 78.0%\n",
      "step 20 loss 0.23904368787178312, accuracy 78.0%\n",
      "step 21 loss 0.23879571229660423, accuracy 78.0%\n",
      "step 22 loss 0.23857136233773366, accuracy 78.0%\n",
      "step 23 loss 0.23836667365461553, accuracy 78.0%\n",
      "step 24 loss 0.23817839532426144, accuracy 78.0%\n",
      "step 25 loss 0.23800380791439932, accuracy 78.0%\n",
      "step 26 loss 0.23784058389771118, accuracy 78.0%\n",
      "step 27 loss 0.23768667525305756, accuracy 78.0%\n",
      "step 28 loss 0.2375402164398352, accuracy 78.0%\n",
      "step 29 loss 0.2373994320447901, accuracy 78.0%\n",
      "step 30 loss 0.23726253719656365, accuracy 78.0%\n",
      "step 31 loss 0.23712761433811558, accuracy 78.0%\n",
      "step 32 loss 0.23699243949155432, accuracy 78.0%\n",
      "step 33 loss 0.23685420832540466, accuracy 78.0%\n",
      "step 34 loss 0.23670906120632093, accuracy 78.0%\n",
      "step 35 loss 0.2365511848271715, accuracy 78.0%\n",
      "step 36 loss 0.23637095476627704, accuracy 78.0%\n",
      "step 37 loss 0.23615069448335835, accuracy 78.0%\n",
      "step 38 loss 0.23585380612414872, accuracy 78.0%\n",
      "step 39 loss 0.23539295457808806, accuracy 78.0%\n",
      "step 40 loss 0.23452367971372173, accuracy 79.0%\n",
      "step 41 loss 0.2324675407649455, accuracy 79.0%\n",
      "step 42 loss 0.2266760370894107, accuracy 80.0%\n",
      "step 43 loss 0.21052995238292135, accuracy 84.0%\n",
      "step 44 loss 0.196059876400521, accuracy 84.0%\n",
      "step 45 loss 0.18981790367827148, accuracy 84.0%\n",
      "step 46 loss 0.18460891965884185, accuracy 86.0%\n",
      "step 47 loss 0.18013177196558244, accuracy 86.0%\n",
      "step 48 loss 0.1762352764818102, accuracy 86.0%\n",
      "step 49 loss 0.17270595711368592, accuracy 86.0%\n",
      "step 50 loss 0.16922342948613975, accuracy 87.0%\n",
      "step 51 loss 0.16538126627019054, accuracy 88.0%\n",
      "step 52 loss 0.16170601455201924, accuracy 87.0%\n",
      "step 53 loss 0.15945160699787536, accuracy 87.0%\n",
      "step 54 loss 0.1579179833928323, accuracy 88.0%\n",
      "step 55 loss 0.15678622330053676, accuracy 88.0%\n",
      "step 56 loss 0.15587705488456208, accuracy 88.0%\n",
      "step 57 loss 0.15507162392068674, accuracy 88.0%\n",
      "step 58 loss 0.15431268933359923, accuracy 88.0%\n",
      "step 59 loss 0.15357859680574865, accuracy 88.0%\n",
      "step 60 loss 0.15286238432014598, accuracy 88.0%\n",
      "step 61 loss 0.15216228427428044, accuracy 88.0%\n",
      "step 62 loss 0.15147832750913323, accuracy 89.0%\n",
      "step 63 loss 0.15081118679796443, accuracy 89.0%\n",
      "step 64 loss 0.15016174425231615, accuracy 89.0%\n",
      "step 65 loss 0.14953089844441303, accuracy 89.0%\n",
      "step 66 loss 0.14891946393313335, accuracy 89.0%\n",
      "step 67 loss 0.1483281156850079, accuracy 89.0%\n",
      "step 68 loss 0.14775736031297335, accuracy 89.0%\n",
      "step 69 loss 0.14720752530336062, accuracy 89.0%\n",
      "step 70 loss 0.1466787607373166, accuracy 89.0%\n",
      "step 71 loss 0.1461710495297826, accuracy 89.0%\n",
      "step 72 loss 0.14568422312799195, accuracy 89.0%\n",
      "step 73 loss 0.1452179803042627, accuracy 89.0%\n",
      "step 74 loss 0.14477190725280373, accuracy 89.0%\n",
      "step 75 loss 0.14434549768464902, accuracy 89.0%\n",
      "step 76 loss 0.14393817201534267, accuracy 89.0%\n",
      "step 77 loss 0.1435492950614742, accuracy 89.0%\n",
      "step 78 loss 0.14317819191174874, accuracy 89.0%\n",
      "step 79 loss 0.1428241618252435, accuracy 89.0%\n",
      "step 80 loss 0.14248649014397627, accuracy 89.0%\n",
      "step 81 loss 0.14216445829885455, accuracy 89.0%\n",
      "step 82 loss 0.1418573520466534, accuracy 89.0%\n",
      "step 83 loss 0.14156446810886877, accuracy 89.0%\n",
      "step 84 loss 0.14128511939786298, accuracy 89.0%\n",
      "step 85 loss 0.1410186390171324, accuracy 89.0%\n",
      "step 86 loss 0.14076438321512222, accuracy 89.0%\n",
      "step 87 loss 0.1405217334591131, accuracy 89.0%\n",
      "step 88 loss 0.14029009777977886, accuracy 89.0%\n",
      "step 89 loss 0.14006891151983675, accuracy 89.0%\n",
      "step 90 loss 0.13985763760300382, accuracy 89.0%\n",
      "step 91 loss 0.139655766423028, accuracy 89.0%\n",
      "step 92 loss 0.13946281543737019, accuracy 89.0%\n",
      "step 93 loss 0.13927832853640462, accuracy 89.0%\n",
      "step 94 loss 0.13910187524689582, accuracy 89.0%\n",
      "step 95 loss 0.1389330498179574, accuracy 89.0%\n",
      "step 96 loss 0.13877147022863534, accuracy 89.0%\n",
      "step 97 loss 0.13861677714856163, accuracy 89.0%\n",
      "step 98 loss 0.13846863287663097, accuracy 89.0%\n",
      "step 99 loss 0.13832672027725681, accuracy 89.0%\n"
     ]
    }
   ],
   "source": [
    "for k in range(100):\n",
    "    \n",
    "    # forward\n",
    "    total_loss, acc = loss()\n",
    "    \n",
    "    # backward\n",
    "    model.zero_grad()\n",
    "    total_loss.backward()\n",
    "    \n",
    "    # update (sgd)\n",
    "    learning_rate = 1.0 - 0.7*k/100\n",
    "    for p in model.parameters():\n",
    "        p.data -= learning_rate * p.grad\n",
    "    \n",
    "    if k % 1 == 0:\n",
    "        print(f\"step {k} loss {total_loss.data}, accuracy {acc*100}%\")"
   ]
  },
  {
   "cell_type": "code",
   "execution_count": 12,
   "metadata": {},
   "outputs": [
    {
     "data": {
      "text/plain": [
       "(-1.615390831750752, 1.884609168249248)"
      ]
     },
     "execution_count": 12,
     "metadata": {},
     "output_type": "execute_result"
    },
    {
     "data": {
      "image/png": "[encoded data removed]",
      "text/plain": [
       "<Figure size 432x288 with 1 Axes>"
      ]
     },
     "metadata": {
      "needs_background": "light"
     },
     "output_type": "display_data"
    }
   ],
   "source": [
    "h = 0.25\n",
    "x_min, x_max = X[:, 0].min() - 1, X[:, 0].max() + 1\n",
    "y_min, y_max = X[:, 1].min() - 1, X[:, 1].max() + 1\n",
    "xx, yy = np.meshgrid(np.arange(x_min, x_max, h),\n",
    "                     np.arange(y_min, y_max, h))\n",
    "Xmesh = np.c_[xx.ravel(), yy.ravel()]\n",
    "inputs = [list(map(Value, xrow)) for xrow in Xmesh]\n",
    "scores = list(map(model, inputs))\n",
    "Z = np.array([s.data > 0 for s in scores])\n",
    "Z = Z.reshape(xx.shape)\n",
    "\n",
    "fig = plt.figure()\n",
    "plt.contourf(xx, yy, Z, cmap=plt.cm.Spectral, alpha=0.8)\n",
    "plt.scatter(X[:, 0], X[:, 1], c=y, s=40, cmap=plt.cm.Spectral)\n",
    "plt.xlim(xx.min(), xx.max())\n",
    "plt.ylim(yy.min(), yy.max())"
   ]
  },
  {
   "cell_type": "code",
   "execution_count": null,
   "metadata": {},
   "outputs": [],
   "source": []
  }
 ],
 "metadata": {
  "kernelspec": {
   "display_name": "pytorch",
   "language": "python",
   "name": "python3"
  },
  "language_info": {
   "codemirror_mode": {
    "name": "ipython",
    "version": 3
   },
   "file_extension": ".py",
   "mimetype": "text/x-python",
   "name": "python",
   "nbconvert_exporter": "python",
   "pygments_lexer": "ipython3",
   "version": "3.9.12"
  }
 },
 "nbformat": 4,
 "nbformat_minor": 2
}
